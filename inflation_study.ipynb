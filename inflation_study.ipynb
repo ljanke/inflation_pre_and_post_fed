{
 "cells": [
  {
   "cell_type": "markdown",
   "id": "f05da7ac63c9e129",
   "metadata": {},
   "source": []
  },
  {
   "cell_type": "markdown",
   "id": "c26550e8e622a3da",
   "metadata": {},
   "source": [
    "# Pre and Post Fed Inflation Study "
   ]
  },
  {
   "cell_type": "markdown",
   "id": "42858554e724383d",
   "metadata": {},
   "source": [
    "## Imports "
   ]
  },
  {
   "cell_type": "code",
   "id": "2681f53831b96e92",
   "metadata": {},
   "source": [
    "import os\n",
    "from pathlib import Path\n",
    "\n",
    "import pandas as pd\n",
    "import numpy as np\n",
    "import seaborn as sns\n",
    "import pingouin as pg"
   ],
   "outputs": [],
   "execution_count": null
  },
  {
   "cell_type": "code",
   "id": "5c3f4535ef889467",
   "metadata": {},
   "source": [
    "PROJECT_DIRECTORY = \"./\"\n",
    "CSV_DATA_DIRECTORY = os.path.join(PROJECT_DIRECTORY, \"data_as_csv\")\n",
    "INFLATION_DATA_CSV = \"inflation.csv\""
   ],
   "outputs": [],
   "execution_count": null
  },
  {
   "cell_type": "code",
   "id": "bba500fa57c6b520",
   "metadata": {},
   "source": [
    "YEAR_COLUMN = \"Year\"\n",
    "ANNUAL_PERCENT_CHANGE_COLUMN = \"Annual Percent Change\"\n",
    "\n",
    "# will create a synthetic column \"Inflation\"\n",
    "INFLATION_COLUMN = \"Inflation\"\n",
    "\n",
    "# alpha corresponding to 95% confidence in our statistical tests \n",
    "ALPHA = 0.05"
   ],
   "outputs": [],
   "execution_count": null
  },
  {
   "cell_type": "markdown",
   "id": "ee1bff72e17b9c0c",
   "metadata": {},
   "source": [
    "## Load Raw Data"
   ]
  },
  {
   "cell_type": "code",
   "id": "1be59a097a8de49e",
   "metadata": {},
   "source": [
    "# source https://www.minneapolisfed.org/about-us/monetary-policy/inflation-calculator/consumer-price-index-1800-\n",
    "\n",
    "df_inflation_org= pd.read_csv(Path(CSV_DATA_DIRECTORY) / INFLATION_DATA_CSV)\n",
    "\n",
    "df_inflation_org.columns"
   ],
   "outputs": [],
   "execution_count": null
  },
  {
   "cell_type": "code",
   "id": "58a8e11c89f2a4c5",
   "metadata": {},
   "source": [
    "df_inflation_org.dtypes"
   ],
   "outputs": [],
   "execution_count": null
  },
  {
   "cell_type": "code",
   "id": "351834c34ebdbaeb",
   "metadata": {},
   "source": [
    "df_inflation = df_inflation_org.copy()\n",
    "conversions = { ANNUAL_PERCENT_CHANGE_COLUMN: \"string\"}\n",
    "df_inflation = df_inflation.astype(conversions).copy()\n",
    "df_inflation.convert_dtypes()\n",
    "\n",
    "df_inflation[INFLATION_COLUMN] = df_inflation[ANNUAL_PERCENT_CHANGE_COLUMN].apply(lambda s: float(s.strip()[:-1])/100)\n",
    "df_inflation"
   ],
   "outputs": [],
   "execution_count": null
  },
  {
   "cell_type": "code",
   "id": "a40bda6e041a812",
   "metadata": {},
   "source": [
    "df_inflation.dtypes"
   ],
   "outputs": [],
   "execution_count": null
  },
  {
   "cell_type": "code",
   "id": "92a02f29b126c013",
   "metadata": {},
   "source": [
    "sns.lineplot(data=df_inflation, x=YEAR_COLUMN, y=INFLATION_COLUMN)\n",
    "\n",
    "df_inflation_pre_fed_1872 = df_inflation[(df_inflation[YEAR_COLUMN] <= 1913) & (df_inflation[YEAR_COLUMN] >= 1872)].copy()\n",
    "df_inflation_pre_fed_1801 = df_inflation[df_inflation[YEAR_COLUMN] <= 1913].copy()\n",
    "df_inflation_post_fed = df_inflation[df_inflation[YEAR_COLUMN] > 1913].copy()\n",
    "\n",
    "periods = {\"pre_fed_1801\": df_inflation_pre_fed_1801, \"pre_fed_1872\": df_inflation_pre_fed_1872, \"post_fed\": df_inflation_post_fed}\n",
    "\n",
    "for period_name, period_data in periods.items():\n",
    "    n = period_data[INFLATION_COLUMN].count()\n",
    "    mean = period_data[INFLATION_COLUMN].mean()\n",
    "    std = period_data[INFLATION_COLUMN].std() # should actually be a population std\n",
    "    print(f\"{period_name} n: {n} mean: {mean} std: {std}\")"
   ],
   "outputs": [],
   "execution_count": null
  },
  {
   "cell_type": "code",
   "id": "e8aed6cfaf8ada18",
   "metadata": {},
   "source": [
    "# do a t-tests (which will be z-tests since n > 30 for all samples\n",
    "\n",
    "post_fed_inflation_data_points = np.array(df_inflation_post_fed[INFLATION_COLUMN]) \n",
    "\n",
    "def inflation_z_test(df_pre_fed: pd.DataFrame) -> pd.DataFrame:\n",
    "    pre_fed_data_data_points = np.array(df_pre_fed[INFLATION_COLUMN])\n",
    "    return pg.ttest(pre_fed_data_data_points, post_fed_inflation_data_points, alternative=\"less\")\n",
    "\n",
    "inflation_z_test(df_inflation_pre_fed_1872)"
   ],
   "outputs": [],
   "execution_count": null
  },
  {
   "cell_type": "code",
   "id": "d98829100bdb72f3",
   "metadata": {},
   "source": [
    "inflation_z_test(df_inflation_pre_fed_1801) "
   ],
   "outputs": [],
   "execution_count": null
  },
  {
   "cell_type": "markdown",
   "id": "75b4186154bcf2b",
   "metadata": {},
   "source": [
    "# Conclusion:"
   ]
  },
  {
   "cell_type": "markdown",
   "id": "bfbaa6635037029",
   "metadata": {},
   "source": [
    "Descriptive statistics suggests that inflation was lower pre-Fed:\n",
    "\n",
    "- pre_fed_1801 (n=113) mean: -0.0032831858407079647 std: 0.05643793509981763\n",
    "- pre_fed_1872 (n=42) mean: -0.004190476190476191 std: 0.02688842174910896\n",
    "- post_fed (n=110) mean: 0.03268181818181819 std: 0.04709699766783905\n",
    "\n",
    "Note, however, that the standard deviation is higher pre-Fed if years from 1801 to 1913 are considered but lower if only 1872 to 1913 are considered.\n",
    "\n"
   ]
  },
  {
   "cell_type": "markdown",
   "id": "6688b1a2cf2f97a1",
   "metadata": {},
   "source": [
    "Applying one-sided two sample z-tests shows that if 1872 to 1903 is considered, we can say, with 95% confidence, that inflation was at least 3% lower, on average, pre-Fed. \n",
    "\n",
    "If 1801 to 1903 is considered, then we can say, with 95% confidence that inflation was at least 2% lower, on average, pre-Fed.\n"
   ]
  },
  {
   "cell_type": "markdown",
   "id": "59803666414ec6b",
   "metadata": {},
   "source": [
    "The obvious caveat is that correlation is, of course, not causation. This does not prove that there is more inflation when there is a central bank.\n",
    "\n",
    "More speculatively, the lower inflation could be due to harsher depressions/deflationary periods pre-Fed. "
   ]
  }
 ],
 "metadata": {
  "kernelspec": {
   "display_name": "Python 3 (ipykernel)",
   "language": "python",
   "name": "python3"
  },
  "language_info": {
   "codemirror_mode": {
    "name": "ipython",
    "version": 3
   },
   "file_extension": ".py",
   "mimetype": "text/x-python",
   "name": "python",
   "nbconvert_exporter": "python",
   "pygments_lexer": "ipython3",
   "version": "3.12.1"
  }
 },
 "nbformat": 4,
 "nbformat_minor": 5
}
